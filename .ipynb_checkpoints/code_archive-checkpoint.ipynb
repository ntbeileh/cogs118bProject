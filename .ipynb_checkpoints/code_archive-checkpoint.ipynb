{
 "cells": [
  {
   "cell_type": "code",
   "execution_count": null,
   "id": "98d32501",
   "metadata": {},
   "outputs": [],
   "source": [
    "cat_var_list = ['anaemia','diabetes','high_blood_pressure','sex','smoking','death_event']\n",
    "\n",
    "for cat_var in cat_var_list:    \n",
    "    # Prepare column names:\n",
    "    if df[cat_var][0] == 0:\n",
    "        name0 = cat_var + '_F'\n",
    "        if cat_var == 'sex':\n",
    "            name1 = cat_var + '_M'\n",
    "        else:\n",
    "            name1 = cat_var + '_T'\n",
    "            \n",
    "    else:\n",
    "        if cat_var == 'sex':\n",
    "            name0 = cat_var + '_M'\n",
    "        else:\n",
    "            name0 = cat_var + '_T'\n",
    "        name1 = cat_var + '_F'\n",
    "    \n",
    "    # One-hot encoding:\n",
    "    one_hot = pd.get_dummies(df[cat_var])\n",
    "    df = df.join(one_hot)\n",
    "    df = df.drop(cat_var,axis=1)\n",
    "        \n",
    "    df = df.rename(columns={0:name0,1:name1})\n",
    "\n",
    "# Sort columns by alphabetic order:\n",
    "df = df.reindex(sorted(df.columns),axis=1)\n",
    "\n",
    "df.head()"
   ]
  }
 ],
 "metadata": {
  "kernelspec": {
   "display_name": "Python 3",
   "language": "python",
   "name": "python3"
  },
  "language_info": {
   "codemirror_mode": {
    "name": "ipython",
    "version": 3
   },
   "file_extension": ".py",
   "mimetype": "text/x-python",
   "name": "python",
   "nbconvert_exporter": "python",
   "pygments_lexer": "ipython3",
   "version": "3.7.6"
  }
 },
 "nbformat": 4,
 "nbformat_minor": 5
}
