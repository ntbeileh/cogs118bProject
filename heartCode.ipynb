{
 "metadata": {
  "language_info": {
   "codemirror_mode": {
    "name": "ipython",
    "version": 3
   },
   "file_extension": ".py",
   "mimetype": "text/x-python",
   "name": "python",
   "nbconvert_exporter": "python",
   "pygments_lexer": "ipython3",
   "version": 3
  },
  "orig_nbformat": 2
 },
 "nbformat": 4,
 "nbformat_minor": 2,
 "cells": [
  {
   "cell_type": "code",
   "execution_count": null,
   "metadata": {},
   "outputs": [],
   "source": [
    "# http://archive.ics.uci.edu/ml/datasets/Heart+failure+clinical+records\n",
    "# compare algorithms\n",
    "\n",
    "# pca, kmeans (if more time spectral clustering, gaussians)\n",
    "#Goals for Friday:\n",
    "  #Have PCA in Google Colab\n",
    "  #Have Kmeans in Colab\n",
    "  #Have Dataset in Colab"
   ]
  }
 ]
}